{
 "cells": [
  {
   "cell_type": "code",
   "execution_count": null,
   "id": "aeca4486-f723-416c-805c-496baeae2b5d",
   "metadata": {},
   "outputs": [],
   "source": [
    "import pandas as pd\n",
    "import datetime"
   ]
  },
  {
   "cell_type": "code",
   "execution_count": null,
   "id": "fab99a34-96eb-44fd-953b-535c1247b89d",
   "metadata": {},
   "outputs": [],
   "source": [
    "from dash import Dash\n",
    "import plotly.express as px\n",
    "import dash_html_components as html\n",
    "import dash_core_components as dcc"
   ]
  },
  {
   "cell_type": "code",
   "execution_count": null,
   "id": "d8e7cc3e",
   "metadata": {
    "scrolled": true
   },
   "outputs": [],
   "source": [
    "def timestamp(x):\n",
    "    return datetime.datetime.fromtimestamp(x)"
   ]
  },
  {
   "cell_type": "code",
   "execution_count": null,
   "id": "1a3813b8-62d1-4c91-8826-c9a84dd5aed3",
   "metadata": {},
   "outputs": [],
   "source": [
    "data = pd.read_csv('data/full_data_animation.csv',\n",
    "                   usecols=[\" num_bikes_available\", \"last_updated\", \"address\", \"lat\", \"lon\"])\n",
    "\n",
    "data['last_updated'] = data['last_updated'].apply(timestamp)"
   ]
  },
  {
   "cell_type": "code",
   "execution_count": null,
   "id": "16c4b90d",
   "metadata": {
    "scrolled": true
   },
   "outputs": [],
   "source": [
    "data.sample(2)"
   ]
  },
  {
   "cell_type": "code",
   "execution_count": null,
   "id": "88e85833",
   "metadata": {},
   "outputs": [],
   "source": [
    "grouped = data.groupby('address')"
   ]
  },
  {
   "cell_type": "code",
   "execution_count": null,
   "id": "ad70ab9e",
   "metadata": {},
   "outputs": [],
   "source": [
    "resample = grouped.resample(rule=\"3H\", on='last_updated').mean().fillna(0)"
   ]
  },
  {
   "cell_type": "code",
   "execution_count": null,
   "id": "61667207",
   "metadata": {},
   "outputs": [],
   "source": [
    "resample[' num_bikes_available'] = resample[' num_bikes_available'].round().astype(int)\n",
    "resample.reset_index(inplace=True)"
   ]
  },
  {
   "cell_type": "code",
   "execution_count": null,
   "id": "b71e762c",
   "metadata": {},
   "outputs": [],
   "source": [
    "resample['last_updated'] = resample['last_updated'].astype(str)"
   ]
  },
  {
   "cell_type": "code",
   "execution_count": null,
   "id": "b3c953a0",
   "metadata": {},
   "outputs": [],
   "source": [
    "resample.sample(3)"
   ]
  },
  {
   "cell_type": "code",
   "execution_count": null,
   "id": "ae33b2ff",
   "metadata": {},
   "outputs": [],
   "source": [
    "mask = (resample['last_updated'] > '2021-01-01') & (resample['last_updated'] <= '2021-01-31')"
   ]
  },
  {
   "cell_type": "code",
   "execution_count": null,
   "id": "b663c898",
   "metadata": {},
   "outputs": [],
   "source": [
    "data_2020 = resample[mask]\n",
    "data_2020.shape"
   ]
  },
  {
   "cell_type": "code",
   "execution_count": null,
   "id": "324ffbfd",
   "metadata": {},
   "outputs": [],
   "source": [
    "fig = px.scatter_mapbox(data_2020, lat=\"lat\", lon=\"lon\", animation_frame = 'last_updated', hover_name='address',\n",
    "                        color=\" num_bikes_available\", size=\" num_bikes_available\",\n",
    "                        color_continuous_scale=px.colors.carto.Burg, size_max=15, zoom=10, height=700,\n",
    "                        hover_data={\"lat\": False, \"lon\": False, \"last_updated\": False})\n",
    "          \n",
    "fig.update_layout(mapbox_style=\"carto-positron\")\n",
    "fig.update_layout(margin={\"r\": 0, \"t\": 0, \"l\": 0, \"b\": 0})\n",
    "\n",
    "fig.show()"
   ]
  },
  {
   "cell_type": "code",
   "execution_count": null,
   "id": "3dfc61c3",
   "metadata": {},
   "outputs": [],
   "source": []
  }
 ],
 "metadata": {
  "kernelspec": {
   "display_name": "YesWeBike",
   "language": "python",
   "name": "yeswebike"
  },
  "language_info": {
   "codemirror_mode": {
    "name": "ipython",
    "version": 3
   },
   "file_extension": ".py",
   "mimetype": "text/x-python",
   "name": "python",
   "nbconvert_exporter": "python",
   "pygments_lexer": "ipython3",
   "version": "3.9.2"
  }
 },
 "nbformat": 4,
 "nbformat_minor": 5
}
